{
 "cells": [
  {
   "cell_type": "markdown",
   "metadata": {},
   "source": [
    "Lambda School Data Science\n",
    "\n",
    "*Unit 3, Sprint 2, Module 4 Assignment*\n",
    "\n",
    "---"
   ]
  },
  {
   "cell_type": "markdown",
   "metadata": {},
   "source": [
    "# ACID and Database Scalability Tradeoffs\n",
    "\n",
    "Comparing the costs and benefits of relational and non-relational approaches -\n",
    "can we have the best of both worlds?"
   ]
  },
  {
   "cell_type": "markdown",
   "metadata": {},
   "source": [
    "## Learning Objectives\n",
    "\n",
    "- Understand and explain the advantages and disadvantages of traditional SQL\n",
    "  databases\n",
    "- Make informed decisions about alternative databases"
   ]
  },
  {
   "cell_type": "markdown",
   "metadata": {},
   "source": [
    "## Before Lecture\n",
    "\n",
    "So far in this sprint you've used SQLite, PostgreSQL, and MongoDB. For each of\n",
    "these, consider the following questions:\n",
    "\n",
    "- What was easy about using this technology?\n",
    "- What was hard about using this technology?\n",
    "- What more would you like to learn about it?\n",
    "\n",
    "Write a summary in the style of a possible blog post, and bring the\n",
    "questions/discussion to class. Bonus - later on, follow up and complete a real\n",
    "blog post about different database technologies!"
   ]
  },
  {
   "cell_type": "markdown",
   "metadata": {},
   "source": [
    "## Live Lecture Task\n",
    "\n",
    "We covered a lot of ground this week - today we'll bring it together, both\n",
    "summarizing and resolving lingering questions. We'll also continue the\n",
    "discussion from the before lecture activity, and explore the cutting edge\n",
    "\"NewSQL\" techniques in active development.\n",
    "\n",
    "As time allows, we'll go back to practicing good old SQL. It's important to have\n",
    "a broad awareness of the database universe, but SQL is a time-tested tool that\n",
    "has and will continue to be useful across a wide range of situations. It will\n",
    "also be the largest part of the sprint challenge, and likely a component of many\n",
    "job interviews."
   ]
  },
  {
   "cell_type": "markdown",
   "metadata": {},
   "source": [
    "## Assignment\n",
    "\n",
    "Practice! Go back to both your deployed PostgreSQL (Titanic data) and MongoDB\n",
    "(RPG data) instances - use [MongoDB\n",
    "queries](https://docs.mongodb.com/manual/tutorial/query-documents/) to answer\n",
    "the same questions as you did from the first module (when the RPG data was in\n",
    "SQLite). With PostgreSQL, answer the following:\n",
    "\n",
    "- How many passengers survived, and how many died?\n",
    "- How many passengers were in each class?\n",
    "- How many passengers survived/died within each class?\n",
    "- What was the average age of survivors vs nonsurvivors?\n",
    "- What was the average age of each passenger class?\n",
    "- What was the average fare by passenger class? By survival?\n",
    "- How many siblings/spouses aboard on average, by passenger class? By survival?\n",
    "- How many parents/children aboard on average, by passenger class? By survival?\n",
    "- Do any passengers have the same name?\n",
    "- (Bonus! Hard, may require pulling and processing with Python) How many married\n",
    "  couples were aboard the Titanic? Assume that two people (one `Mr.` and one\n",
    "  `Mrs.`) with the same last name and with at least 1 sibling/spouse aboard are\n",
    "  a married couple."
   ]
  },
  {
   "cell_type": "code",
   "execution_count": null,
   "metadata": {},
   "outputs": [],
   "source": []
  },
  {
   "cell_type": "markdown",
   "metadata": {},
   "source": [
    "## Resources and Stretch Goals\n",
    "\n",
    "The assignment drilled core SQL, but *didn't* review joins - revisit the RPG\n",
    "data, and do more joins (explicit or implicit) to make sure you understand how\n",
    "to connect data across tables.\n",
    "\n",
    "If you got the Titanic data in your MongoDB cluster - see if you can also answer\n",
    "the above questions using MongoDB!\n",
    "\n",
    "Read up on [database\n",
    "normalization](https://en.wikipedia.org/wiki/Database_normalization) - a variety\n",
    "of formal techniques for reducing the redundancy of data stored in a relational\n",
    "database.\n",
    "\n",
    "Keep working on your written summary from the \"before lecture\" exercise, and\n",
    "grow it into a proper blog post. Consider focusing it on one particular\n",
    "technology or technique, and compare/contrast it with the alternatives.\n",
    "\n",
    "Get more reps in! Check out [SQLBolt](https://sqlbolt.com/) and [w3schools SQL\n",
    "Tutorial](https://www.w3schools.com/sql/), both of which include interactive\n",
    "exercises. Mastering SQL is all about practice, so get it down now and you'll be\n",
    "confident for your job interviews."
   ]
  },
  {
   "cell_type": "code",
   "execution_count": null,
   "metadata": {},
   "outputs": [],
   "source": []
  }
 ],
 "metadata": {
  "kernelspec": {
   "display_name": "Python 3",
   "language": "python",
   "name": "python3"
  },
  "language_info": {
   "codemirror_mode": {
    "name": "ipython",
    "version": 3
   },
   "file_extension": ".py",
   "mimetype": "text/x-python",
   "name": "python",
   "nbconvert_exporter": "python",
   "pygments_lexer": "ipython3",
   "version": "3.7.5"
  }
 },
 "nbformat": 4,
 "nbformat_minor": 4
}
