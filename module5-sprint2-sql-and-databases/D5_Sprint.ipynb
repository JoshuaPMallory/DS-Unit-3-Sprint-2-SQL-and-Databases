{
 "cells": [
  {
   "cell_type": "markdown",
   "metadata": {},
   "source": [
    "Lambda School Data Science\n",
    "\n",
    "*Unit 3, Sprint 2*\n",
    "\n",
    "---"
   ]
  },
  {
   "cell_type": "markdown",
   "metadata": {},
   "source": [
    "# Data Science Unit 3 Sprint Challenge 2"
   ]
  },
  {
   "cell_type": "markdown",
   "metadata": {},
   "source": [
    "## Databases and SQL\n",
    "\n",
    "A SQL Query walks into a bar. In one corner of the bar are two tables. The Query\n",
    "walks up to the tables and asks:\n",
    "\n",
    "...\n",
    "\n",
    "*\"Mind if I join you?\"*\n",
    "\n",
    "---\n",
    "\n",
    "In this sprint challenge you will write code and answer questions related to\n",
    "databases, with a focus on SQL but an acknowledgment of the broader ecosystem.\n",
    "You may use any tools and references you wish, but your final code should\n",
    "reflect *your* work and be saved in `.py` files (*not* notebooks), and (along\n",
    "with this file including your written answers) added to your\n",
    "`DS-Unit-3-Sprint-2-SQL-and-Databases` repo.\n",
    "\n",
    "For all your code, you may only import/use the following:\n",
    "- other modules you write\n",
    "- `sqlite3` (from the standard library)\n",
    "\n",
    "As always, make sure to manage your time - get a section/question to \"good\n",
    "enough\" and then move on to make sure you do everything. You can always revisit\n",
    "and polish at the end if time allows.\n",
    "\n",
    "This file is Markdown, so it may be helpful to add/commit/push it first so you\n",
    "can view it all nice and rendered on GitHub.\n",
    "\n",
    "Good luck!"
   ]
  },
  {
   "cell_type": "markdown",
   "metadata": {},
   "source": [
    "### Part 1 - Making and populating a Database\n",
    "\n",
    "Consider the following data:\n",
    "\n",
    "| s   | x | y |\n",
    "|-----|---|---|\n",
    "| 'g' | 3 | 9 |\n",
    "| 'v' | 5 | 7 |\n",
    "| 'f' | 8 | 7 |\n",
    "\n",
    "Using the standard `sqlite3` module:\n",
    "\n",
    "- Open a connection to a new (blank) database file `demo_data.sqlite3`\n",
    "- Make a cursor, and execute an appropriate `CREATE TABLE` statement to accept\n",
    "  the above data (name the table `demo`)\n",
    "- Write and execute appropriate `INSERT INTO` statements to add the data (as\n",
    "  shown above) to the database\n",
    "\n",
    "Make sure to `commit()` so your data is saved! The file size should be non-zero.\n",
    "\n",
    "Then write the following queries (also with `sqlite3`) to test:\n",
    "\n",
    "- Count how many rows you have - it should be 3!\n",
    "- How many rows are there where both `x` and `y` are at least 5?\n",
    "- How many unique values of `y` are there (hint - `COUNT()` can accept a keyword\n",
    "  `DISTINCT`)?\n",
    "\n",
    "Your code (to reproduce all above steps) should be saved in `demo_data.py` and\n",
    "added to the repository along with the generated SQLite database."
   ]
  },
  {
   "cell_type": "code",
   "execution_count": null,
   "metadata": {},
   "outputs": [],
   "source": [
    "#######################################################\n",
    "#                                                     #\n",
    "# This notebook is for ease of testing.               #\n",
    "# All needed code is inside the associated .py files. #\n",
    "#                                                     #\n",
    "#######################################################\n",
    "\n",
    "import sqlite3\n",
    "import SQL\n",
    "\n",
    "\n",
    "partone   = SQL.SQL('demo_data.sqlite3')\n",
    "\n",
    "questions = ['Count how many rows you have.'\n",
    "            ,'How many rows are there where both `x` and `y` are at least 5?'\n",
    "            ,'How many unique values of `y` are there (hint - `COUNT()` can accept a keyword `DISTINCT`)?'\n",
    "            ]\n",
    "answers   = []"
   ]
  },
  {
   "cell_type": "code",
   "execution_count": 61,
   "metadata": {},
   "outputs": [
    {
     "data": {
      "text/plain": [
       "[]"
      ]
     },
     "execution_count": 61,
     "metadata": {},
     "output_type": "execute_result"
    }
   ],
   "source": [
    "# When I need to start over\n",
    "# partone.query('DROP TABLE demo')"
   ]
  },
  {
   "cell_type": "code",
   "execution_count": 2,
   "metadata": {},
   "outputs": [
    {
     "data": {
      "text/plain": [
       "[]"
      ]
     },
     "execution_count": 2,
     "metadata": {},
     "output_type": "execute_result"
    }
   ],
   "source": [
    "partone.query('''\n",
    "CREATE TABLE demo\n",
    "    (s CHAR(1)\n",
    "    ,x INT(1)\n",
    "    ,y INT(1)\n",
    "    )\n",
    "''')"
   ]
  },
  {
   "cell_type": "code",
   "execution_count": 3,
   "metadata": {},
   "outputs": [
    {
     "data": {
      "text/plain": [
       "[]"
      ]
     },
     "execution_count": 3,
     "metadata": {},
     "output_type": "execute_result"
    }
   ],
   "source": [
    "# Row 1\n",
    "partone.query('''\n",
    "INSERT INTO\n",
    "    demo\n",
    "VALUES\n",
    "    ('g', 3, 9)\n",
    "''')\n",
    "\n",
    "# Row 2\n",
    "partone.query('''\n",
    "INSERT INTO\n",
    "    demo\n",
    "VALUES\n",
    "    ('v', 5, 7)\n",
    "''')\n",
    "\n",
    "# Row 3\n",
    "partone.query('''\n",
    "INSERT INTO\n",
    "    demo\n",
    "VALUES\n",
    "    ('f', 8, 7)\n",
    "''')"
   ]
  },
  {
   "cell_type": "code",
   "execution_count": 4,
   "metadata": {},
   "outputs": [
    {
     "data": {
      "text/plain": [
       "[('g', 3, 9), ('v', 5, 7), ('f', 8, 7)]"
      ]
     },
     "execution_count": 4,
     "metadata": {},
     "output_type": "execute_result"
    }
   ],
   "source": [
    "partone.query('SELECT * FROM demo')"
   ]
  },
  {
   "cell_type": "code",
   "execution_count": 5,
   "metadata": {},
   "outputs": [],
   "source": [
    "# Count how many rows you have\n",
    "answers.append(partone.query('''\n",
    "SELECT\n",
    "    COUNT(*)\n",
    "FROM\n",
    "    demo\n",
    "''')[0][0])\n",
    "\n",
    "# How many rows are there where both `x` and `y` are at least 5?\n",
    "answers.append(partone.query('''\n",
    "SELECT\n",
    "    COUNT(*)\n",
    "FROM\n",
    "    demo\n",
    "WHERE\n",
    "    x >= 5 AND y >= 5\n",
    "''')[0][0])\n",
    "\n",
    "# How many unique values of `y` are there (hint - `COUNT()` can accept a keyword `DISTINCT`)?\n",
    "answers.append(partone.query('''\n",
    "SELECT\n",
    "    COUNT(DISTINCT y)\n",
    "FROM\n",
    "    demo\n",
    "''')[0][0])"
   ]
  },
  {
   "cell_type": "code",
   "execution_count": 6,
   "metadata": {},
   "outputs": [
    {
     "name": "stdout",
     "output_type": "stream",
     "text": [
      "Count how many rows you have. \n",
      " 3 \n",
      "\n",
      "How many rows are there where both `x` and `y` are at least 5? \n",
      " 2 \n",
      "\n",
      "How many unique values of `y` are there (hint - `COUNT()` can accept a keyword `DISTINCT`)? \n",
      " 2 \n",
      "\n"
     ]
    }
   ],
   "source": [
    "num     = 0\n",
    "running = True\n",
    "\n",
    "while running:\n",
    "    print(questions[num], '\\n', answers[num], '\\n')\n",
    "    \n",
    "    num += 1\n",
    "    if num == len(questions):\n",
    "        running = False"
   ]
  },
  {
   "cell_type": "markdown",
   "metadata": {},
   "source": [
    "### Part 2 - The Northwind Database\n",
    "\n",
    "Using `sqlite3`, connect to the given `northwind_small.sqlite3` database.\n",
    "\n",
    "![Northwind Entity-Relationship Diagram](./northwind_erd.png)\n",
    "\n",
    "Above is an entity-relationship diagram - a picture summarizing the schema and\n",
    "relationships in the database. Note that it was generated using Microsoft\n",
    "Access, and some of the specific table/field names are different in the provided\n",
    "data. You can see all the tables available to SQLite as follows:\n",
    "\n",
    "```python\n",
    ">>> curs.execute(\"SELECT name FROM sqlite_master WHERE type='table' ORDER BY\n",
    "name;\").fetchall()\n",
    "[('Category',), ('Customer',), ('CustomerCustomerDemo',),\n",
    "('CustomerDemographic',), ('Employee',), ('EmployeeTerritory',), ('Order',),\n",
    "('OrderDetail',), ('Product',), ('Region',), ('Shipper',), ('Supplier',),\n",
    "('Territory',)]\n",
    "```\n",
    "\n",
    "*Warning*: unlike the diagram, the tables in SQLite are singular and not plural\n",
    "(do not end in `s`). And you can see the schema (`CREATE TABLE` statement)\n",
    "behind any given table with:\n",
    "```python\n",
    ">>> curs.execute('SELECT sql FROM sqlite_master WHERE name=\"Customer\";').fetchall()\n",
    "[('CREATE TABLE \"Customer\" \\n(\\n  \"Id\" VARCHAR(8000) PRIMARY KEY, \\n\n",
    "\"CompanyName\" VARCHAR(8000) NULL, \\n  \"ContactName\" VARCHAR(8000) NULL, \\n\n",
    "\"ContactTitle\" VARCHAR(8000) NULL, \\n  \"Address\" VARCHAR(8000) NULL, \\n  \"City\"\n",
    "VARCHAR(8000) NULL, \\n  \"Region\" VARCHAR(8000) NULL, \\n  \"PostalCode\"\n",
    "VARCHAR(8000) NULL, \\n  \"Country\" VARCHAR(8000) NULL, \\n  \"Phone\" VARCHAR(8000)\n",
    "NULL, \\n  \"Fax\" VARCHAR(8000) NULL \\n)',)]\n",
    "```\n",
    "\n",
    "In particular note that the *primary* key is `Id`, and not `CustomerId`. On\n",
    "other tables (where it is a *foreign* key) it will be `CustomerId`. Also note -\n",
    "the `Order` table conflicts with the `ORDER` keyword! We'll just avoid that\n",
    "particular table, but it's a good lesson in the danger of keyword conflicts.\n",
    "\n",
    "Answer the following questions (each is from a single table):\n",
    "\n",
    "- What are the ten most expensive items (per unit price) in the database?\n",
    "- What is the average age of an employee at the time of their hiring? (Hint: a\n",
    "  lot of arithmetic works with dates.)\n",
    "- (*Stretch*) How does the average age of employee at hire vary by city?\n",
    "\n",
    "Your code (to load and query the data) should be saved in `northwind.py`, and\n",
    "added to the repository. Do your best to answer in purely SQL, but if necessary\n",
    "use Python/other logic to help."
   ]
  },
  {
   "cell_type": "code",
   "execution_count": 45,
   "metadata": {},
   "outputs": [],
   "source": [
    "import sqlite3\n",
    "import SQL\n",
    "\n",
    "\n",
    "parttwo   = SQL.SQL('northwind_small.sqlite3')\n",
    "\n",
    "questions = ['What are the ten most expensive items (per unit price) in the database?'\n",
    "            ,'What is the average age of an employee at the time of their hiring?'\n",
    "            ]\n",
    "answers   = []"
   ]
  },
  {
   "cell_type": "code",
   "execution_count": 46,
   "metadata": {},
   "outputs": [],
   "source": [
    "# What are the ten most expensive items (per unit price) in the database?\n",
    "answers.append(parttwo.query('''\n",
    "SELECT\n",
    "    UnitPrice, ProductName\n",
    "FROM\n",
    "    Product\n",
    "INNER JOIN\n",
    "    Supplier on Product.SupplierID\n",
    "GROUP BY\n",
    "    ProductName\n",
    "ORDER BY\n",
    "    UnitPrice DESC\n",
    "LIMIT\n",
    "    10\n",
    "'''))\n",
    "\n",
    "# What is the average age of an employee at the time of their hiring?\n",
    "# (Hint: a lot of arithmetic works with dates.)\n",
    "answers.append(parttwo.query('''\n",
    "SELECT\n",
    "    HireDate - BirthDate\n",
    "FROM\n",
    "    Employee\n",
    "'''))"
   ]
  },
  {
   "cell_type": "code",
   "execution_count": 47,
   "metadata": {},
   "outputs": [
    {
     "name": "stdout",
     "output_type": "stream",
     "text": [
      "What are the ten most expensive items (per unit price) in the database? \n",
      " [(263.5,), (123.79,), (97,), (81,), (62.5,), (55,), (53,), (49.3,), (46,), (45.6,)] \n",
      "\n",
      "What is the average age of an employee at the time of their hiring? \n",
      " [(44,), (40,), (29,), (56,), (38,), (30,), (34,), (36,), (28,)] \n",
      "\n"
     ]
    }
   ],
   "source": [
    "num     = 0\n",
    "running = True\n",
    "\n",
    "while running:\n",
    "    print(questions[num], '\\n', answers[num], '\\n')\n",
    "    \n",
    "    num += 1\n",
    "    if num == len(questions):\n",
    "        running = False"
   ]
  },
  {
   "cell_type": "markdown",
   "metadata": {},
   "source": [
    "### Part 3 - Sailing the Northwind Seas\n",
    "\n",
    "You've answered some basic questions from the Northwind database, looking at\n",
    "individual tables - now it's time to put things together, and `JOIN`!\n",
    "\n",
    "Using `sqlite3` in `northwind.py`, answer the following:\n",
    "\n",
    "- What are the ten most expensive items (per unit price) in the database *and*\n",
    "  their suppliers?\n",
    "- What is the largest category (by number of unique products in it)?\n",
    "- (*Stretch*) Who's the employee with the most territories? Use `TerritoryId`\n",
    "  (not name, region, or other fields) as the unique identifier for territories."
   ]
  },
  {
   "cell_type": "code",
   "execution_count": 137,
   "metadata": {},
   "outputs": [],
   "source": [
    "import sqlite3\n",
    "import SQL\n",
    "\n",
    "\n",
    "partthree = SQL.SQL('northwind_small.sqlite3')\n",
    "\n",
    "questions = ['What are the ten most expensive items (per unit price) in the database *and* their suppliers?'\n",
    "            ,'What is the largest category (by number of unique products in it)?'\n",
    "            ]\n",
    "answers   = []"
   ]
  },
  {
   "cell_type": "code",
   "execution_count": 138,
   "metadata": {},
   "outputs": [],
   "source": [
    "# What are the ten most expensive items (per unit price) in the database *and* their suppliers?\n",
    "answers.append(partthree.query('''\n",
    "SELECT\n",
    "    UnitPrice, ProductName, CompanyName\n",
    "FROM\n",
    "    Product\n",
    "INNER JOIN\n",
    "    Supplier on Product.SupplierID\n",
    "GROUP BY\n",
    "    ProductName\n",
    "ORDER BY\n",
    "    UnitPrice DESC\n",
    "LIMIT\n",
    "    10\n",
    "'''))\n",
    "\n",
    "# What is the largest category (by number of unique products in it)?\n",
    "# Failed\n",
    "\n",
    "# After all my work, all I can concluse after searching dozens of questions online is that SQL has no built in method of grabbing the fucking headers\n",
    "# SQL also doens't understand that I can't to grab CategoryID, which is somehow both listed inside the table, yet also is ungrabbable\n",
    "# What this is doing is multiplying all of the category data across all other information, whcih makes it impossible to get anything but exactly the same information everywhere.\n",
    "\n",
    "answers.append(partthree.query('''\n",
    "SELECT\n",
    "    COUNT(DISTINCT CategoryName)ProductName\n",
    "FROM\n",
    "    Product\n",
    "INNER JOIN\n",
    "    Category on Product.CategoryID\n",
    "GROUP BY\n",
    "    ProductName\n",
    "LIMIT\n",
    "    10\n",
    "'''))"
   ]
  },
  {
   "cell_type": "code",
   "execution_count": 106,
   "metadata": {},
   "outputs": [
    {
     "data": {
      "text/plain": [
       "[(8,), (8,), (8,), (8,), (8,), (8,), (8,), (8,), (8,), (8,)]"
      ]
     },
     "execution_count": 106,
     "metadata": {},
     "output_type": "execute_result"
    }
   ],
   "source": [
    "partthree.query('''\n",
    "SELECT\n",
    "    COUNT(DISTINCT CategoryName)ProductName\n",
    "FROM\n",
    "    Product\n",
    "INNER JOIN\n",
    "    Category on Product.CategoryID\n",
    "GROUP BY\n",
    "    ProductName\n",
    "LIMIT\n",
    "    10\n",
    "''')"
   ]
  },
  {
   "cell_type": "code",
   "execution_count": 128,
   "metadata": {},
   "outputs": [
    {
     "ename": "OperationalError",
     "evalue": "no such column: Category.CategoryID",
     "output_type": "error",
     "traceback": [
      "\u001b[1;31m---------------------------------------------------------------------------\u001b[0m",
      "\u001b[1;31mOperationalError\u001b[0m                          Traceback (most recent call last)",
      "\u001b[1;32m<ipython-input-128-51e192329a26>\u001b[0m in \u001b[0;36m<module>\u001b[1;34m\u001b[0m\n\u001b[0;32m      6\u001b[0m \u001b[0mLEFT\u001b[0m \u001b[0mJOIN\u001b[0m\u001b[1;33m\u001b[0m\u001b[1;33m\u001b[0m\u001b[0m\n\u001b[0;32m      7\u001b[0m     \u001b[0mCategory\u001b[0m \u001b[0mon\u001b[0m \u001b[0mProduct\u001b[0m\u001b[1;33m.\u001b[0m\u001b[0mCategoryID\u001b[0m \u001b[1;33m=\u001b[0m \u001b[0mCategory\u001b[0m\u001b[1;33m.\u001b[0m\u001b[0mCategoryID\u001b[0m\u001b[1;33m\u001b[0m\u001b[1;33m\u001b[0m\u001b[0m\n\u001b[1;32m----> 8\u001b[1;33m ''')\n\u001b[0m",
      "\u001b[1;32m~\\Google Drive\\Z - Mine\\Programming\\Lambda\\DS9\\U3\\W2\\module5-sprint2-sql-and-databases\\SQL.py\u001b[0m in \u001b[0;36mquery\u001b[1;34m(self, query)\u001b[0m\n\u001b[0;32m     16\u001b[0m         '''\n\u001b[0;32m     17\u001b[0m         \u001b[0mcursor\u001b[0m \u001b[1;33m=\u001b[0m \u001b[0mself\u001b[0m\u001b[1;33m.\u001b[0m\u001b[0mconn\u001b[0m\u001b[1;33m.\u001b[0m\u001b[0mcursor\u001b[0m\u001b[1;33m(\u001b[0m\u001b[1;33m)\u001b[0m\u001b[1;33m\u001b[0m\u001b[1;33m\u001b[0m\u001b[0m\n\u001b[1;32m---> 18\u001b[1;33m         \u001b[0mresult\u001b[0m \u001b[1;33m=\u001b[0m \u001b[0mcursor\u001b[0m\u001b[1;33m.\u001b[0m\u001b[0mexecute\u001b[0m\u001b[1;33m(\u001b[0m\u001b[0mquery\u001b[0m\u001b[1;33m)\u001b[0m\u001b[1;33m.\u001b[0m\u001b[0mfetchall\u001b[0m\u001b[1;33m(\u001b[0m\u001b[1;33m)\u001b[0m\u001b[1;33m\u001b[0m\u001b[1;33m\u001b[0m\u001b[0m\n\u001b[0m\u001b[0;32m     19\u001b[0m         \u001b[0mcursor\u001b[0m\u001b[1;33m.\u001b[0m\u001b[0mclose\u001b[0m\u001b[1;33m(\u001b[0m\u001b[1;33m)\u001b[0m\u001b[1;33m\u001b[0m\u001b[1;33m\u001b[0m\u001b[0m\n\u001b[0;32m     20\u001b[0m         \u001b[0mself\u001b[0m\u001b[1;33m.\u001b[0m\u001b[0mconn\u001b[0m\u001b[1;33m.\u001b[0m\u001b[0mcommit\u001b[0m\u001b[1;33m(\u001b[0m\u001b[1;33m)\u001b[0m\u001b[1;33m\u001b[0m\u001b[1;33m\u001b[0m\u001b[0m\n",
      "\u001b[1;31mOperationalError\u001b[0m: no such column: Category.CategoryID"
     ]
    }
   ],
   "source": [
    "partthree.query('''\n",
    "SELECT\n",
    "    ProductName, CategoryID, CategoryName\n",
    "FROM\n",
    "    Product\n",
    "LEFT JOIN\n",
    "    Category on Product.CategoryID = Category.CategoryID\n",
    "''')"
   ]
  },
  {
   "cell_type": "code",
   "execution_count": 136,
   "metadata": {},
   "outputs": [
    {
     "ename": "OperationalError",
     "evalue": "no such table: information_schema.columns",
     "output_type": "error",
     "traceback": [
      "\u001b[1;31m---------------------------------------------------------------------------\u001b[0m",
      "\u001b[1;31mOperationalError\u001b[0m                          Traceback (most recent call last)",
      "\u001b[1;32m<ipython-input-136-72ff4606e0b7>\u001b[0m in \u001b[0;36m<module>\u001b[1;34m\u001b[0m\n\u001b[0;32m      6\u001b[0m \u001b[0mWHERE\u001b[0m\u001b[1;33m\u001b[0m\u001b[1;33m\u001b[0m\u001b[0m\n\u001b[0;32m      7\u001b[0m     \u001b[0mtable_name\u001b[0m\u001b[1;33m=\u001b[0m\u001b[1;34m'Category'\u001b[0m\u001b[1;33m\u001b[0m\u001b[1;33m\u001b[0m\u001b[0m\n\u001b[1;32m----> 8\u001b[1;33m ''')\n\u001b[0m",
      "\u001b[1;32m~\\Google Drive\\Z - Mine\\Programming\\Lambda\\DS9\\U3\\W2\\module5-sprint2-sql-and-databases\\SQL.py\u001b[0m in \u001b[0;36mquery\u001b[1;34m(self, query)\u001b[0m\n\u001b[0;32m     16\u001b[0m         '''\n\u001b[0;32m     17\u001b[0m         \u001b[0mcursor\u001b[0m \u001b[1;33m=\u001b[0m \u001b[0mself\u001b[0m\u001b[1;33m.\u001b[0m\u001b[0mconn\u001b[0m\u001b[1;33m.\u001b[0m\u001b[0mcursor\u001b[0m\u001b[1;33m(\u001b[0m\u001b[1;33m)\u001b[0m\u001b[1;33m\u001b[0m\u001b[1;33m\u001b[0m\u001b[0m\n\u001b[1;32m---> 18\u001b[1;33m         \u001b[0mresult\u001b[0m \u001b[1;33m=\u001b[0m \u001b[0mcursor\u001b[0m\u001b[1;33m.\u001b[0m\u001b[0mexecute\u001b[0m\u001b[1;33m(\u001b[0m\u001b[0mquery\u001b[0m\u001b[1;33m)\u001b[0m\u001b[1;33m.\u001b[0m\u001b[0mfetchall\u001b[0m\u001b[1;33m(\u001b[0m\u001b[1;33m)\u001b[0m\u001b[1;33m\u001b[0m\u001b[1;33m\u001b[0m\u001b[0m\n\u001b[0m\u001b[0;32m     19\u001b[0m         \u001b[0mcursor\u001b[0m\u001b[1;33m.\u001b[0m\u001b[0mclose\u001b[0m\u001b[1;33m(\u001b[0m\u001b[1;33m)\u001b[0m\u001b[1;33m\u001b[0m\u001b[1;33m\u001b[0m\u001b[0m\n\u001b[0;32m     20\u001b[0m         \u001b[0mself\u001b[0m\u001b[1;33m.\u001b[0m\u001b[0mconn\u001b[0m\u001b[1;33m.\u001b[0m\u001b[0mcommit\u001b[0m\u001b[1;33m(\u001b[0m\u001b[1;33m)\u001b[0m\u001b[1;33m\u001b[0m\u001b[1;33m\u001b[0m\u001b[0m\n",
      "\u001b[1;31mOperationalError\u001b[0m: no such table: information_schema.columns"
     ]
    }
   ],
   "source": [
    "partthree.query('''\n",
    "SELECT\n",
    "    *\n",
    "FROM\n",
    "    information_schema.columns\n",
    "WHERE\n",
    "    table_name = 'Category'\n",
    "''')"
   ]
  },
  {
   "cell_type": "code",
   "execution_count": 94,
   "metadata": {},
   "outputs": [
    {
     "data": {
      "text/plain": [
       "[('Chai', 'Beverages'),\n",
       " ('Chai', 'Condiments'),\n",
       " ('Chai', 'Confections'),\n",
       " ('Chai', 'Dairy Products'),\n",
       " ('Chai', 'Grains/Cereals'),\n",
       " ('Chai', 'Meat/Poultry'),\n",
       " ('Chai', 'Produce'),\n",
       " ('Chai', 'Seafood')]"
      ]
     },
     "execution_count": 94,
     "metadata": {},
     "output_type": "execute_result"
    }
   ],
   "source": [
    "# What is the largest category (by number of unique products in it)?\n",
    "partthree.query('''\n",
    "SELECT\n",
    "    ProductName, CategoryName\n",
    "FROM\n",
    "    Product\n",
    "INNER JOIN\n",
    "    Category on Product.CategoryID\n",
    "GROUP BY\n",
    "    CategoryName\n",
    "ORDER BY\n",
    "    ProductName DESC\n",
    "LIMIT\n",
    "    10\n",
    "''')"
   ]
  },
  {
   "cell_type": "code",
   "execution_count": 139,
   "metadata": {},
   "outputs": [
    {
     "name": "stdout",
     "output_type": "stream",
     "text": [
      "What are the ten most expensive items (per unit price) in the database *and* their suppliers? \n",
      " [(263.5, 'Côte de Blaye', 'Exotic Liquids'), (123.79, 'Thüringer Rostbratwurst', 'Exotic Liquids'), (97, 'Mishi Kobe Niku', 'Exotic Liquids'), (81, \"Sir Rodney's Marmalade\", 'Exotic Liquids'), (62.5, 'Carnarvon Tigers', 'Exotic Liquids'), (55, 'Raclette Courdavault', 'Exotic Liquids'), (53, 'Manjimup Dried Apples', 'Exotic Liquids'), (49.3, 'Tarte au sucre', 'Exotic Liquids'), (46, 'Ipoh Coffee', 'Exotic Liquids'), (45.6, 'Rössle Sauerkraut', 'Exotic Liquids')] \n",
      "\n",
      "What is the largest category (by number of unique products in it)? \n",
      " [(8,), (8,), (8,), (8,), (8,), (8,), (8,), (8,), (8,), (8,)] \n",
      "\n"
     ]
    }
   ],
   "source": [
    "num     = 0\n",
    "running = True\n",
    "\n",
    "while running:\n",
    "    print(questions[num], '\\n', answers[num], '\\n')\n",
    "    \n",
    "    num += 1\n",
    "    if num == len(questions):\n",
    "        running = False"
   ]
  },
  {
   "cell_type": "markdown",
   "metadata": {},
   "source": [
    "### Part 4 - Questions (and your Answers)\n",
    "\n",
    "Answer the following questions, baseline ~3-5 sentences each, as if they were\n",
    "interview screening questions (a form you fill when applying for a job):\n",
    "\n",
    "- In the Northwind database, what is the type of relationship between the\n",
    "  `Employee` and `Territory` tables?\n",
    "- What is a situation where a document store (like MongoDB) is appropriate, and\n",
    "  what is a situation where it is not appropriate?\n",
    "- What is \"NewSQL\", and what is it trying to achieve?"
   ]
  },
  {
   "cell_type": "markdown",
   "metadata": {},
   "source": [
    "#### Response\n",
    "\n",
    "Many to many.\n",
    "\n",
    "MongoDB is supposedly useful in situations where you don't want structured data and instead just need a big blob of storage. It's a bit like throwing everything you own into a crate; Good luck finding it, or changing it when you need to. Personally I think it's just a fad at this point, there's a reason we work so hard to make structures in the first place and in general the only place a lack of structure is useful is in the beginning when you don't know exactly what you need yet.\n",
    "\n",
    "It's another type of SQL that further complicates something that really shouldn't be complex in the first place."
   ]
  },
  {
   "cell_type": "markdown",
   "metadata": {},
   "source": [
    "### Part 5 - Turn it in!\n",
    "Provide all the files you wrote (`demo_data.py`, `northwind.py`), as well as\n",
    "this file with your answers to part 4, directly to your TL. You're also\n",
    "encouraged to include the output from your queries as docstring comments, to\n",
    "facilitate grading and feedback. Thanks for your hard work!\n",
    "\n",
    "If you got this far, check out the [larger Northwind\n",
    "database](https://github.com/jpwhite3/northwind-SQLite3/blob/master/Northwind_large.sqlite.zip) -\n",
    "your queries should run on it as well, with richer results."
   ]
  },
  {
   "cell_type": "code",
   "execution_count": null,
   "metadata": {},
   "outputs": [],
   "source": []
  }
 ],
 "metadata": {
  "kernelspec": {
   "display_name": "Python 3",
   "language": "python",
   "name": "python3"
  },
  "language_info": {
   "codemirror_mode": {
    "name": "ipython",
    "version": 3
   },
   "file_extension": ".py",
   "mimetype": "text/x-python",
   "name": "python",
   "nbconvert_exporter": "python",
   "pygments_lexer": "ipython3",
   "version": "3.7.5"
  }
 },
 "nbformat": 4,
 "nbformat_minor": 4
}
