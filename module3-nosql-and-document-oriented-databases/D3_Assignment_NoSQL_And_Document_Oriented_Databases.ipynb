{
 "cells": [
  {
   "cell_type": "markdown",
   "metadata": {},
   "source": [
    "Lambda School Data Science\n",
    "\n",
    "*Unit 3, Sprint 2, Module 3 Assignment*\n",
    "\n",
    "---"
   ]
  },
  {
   "cell_type": "markdown",
   "metadata": {},
   "source": [
    "# NoSQL and Document-oriented databases\n",
    "\n",
    "NoSQL, no worries? Not exactly, but it's still a powerful approach for some\n",
    "problems."
   ]
  },
  {
   "cell_type": "markdown",
   "metadata": {},
   "source": [
    "## Learning Objectives\n",
    "\n",
    "- Identify appropriate use cases for document-oriented databases\n",
    "- Deploy and use a simple MongoDB instance"
   ]
  },
  {
   "cell_type": "markdown",
   "metadata": {},
   "source": [
    "## Before Lecture\n",
    "\n",
    "Sign up for an account at [MongoDB Atlas](https://www.mongodb.com/cloud/atlas),\n",
    "the official hosted service of MongoDB with a generous (500mb) free tier. You\n",
    "can also explore the many [MongoDB tools](http://mongodb-tools.com/) out there,\n",
    "though none in particular are recommended or required for installation (we're\n",
    "really just checking out MongoDB as a way to understand document-oriented\n",
    "databases - it's unlikely to become a core part of your toolkit the way SQLite\n",
    "and PostgreSQL may)."
   ]
  },
  {
   "cell_type": "markdown",
   "metadata": {},
   "source": [
    "## Live Lecture Task\n",
    "\n",
    "Another database, same data? Let's try to store the RPG data in our MongoDB\n",
    "instance, and learn about the advantages and disadvantages of the NoSQL paradigm\n",
    "in the process. We will depend on\n",
    "[PyMongo](https://api.mongodb.com/python/current/) to connect to the database.\n",
    "\n",
    "Note - the\n",
    "[JSON](https://github.com/LambdaSchool/Django-RPG/blob/master/testdata.json)\n",
    "representation of the data is likely to be particularly useful for this purpose."
   ]
  },
  {
   "cell_type": "markdown",
   "metadata": {},
   "source": [
    "## Assignment\n",
    "\n",
    "Reproduce (debugging as needed) the live lecture task of setting up and\n",
    "inserting the RPG data into a MongoDB instance, and add the code you write to do\n",
    "so here. Then answer the following question (can be a comment in the top of your\n",
    "code or in Markdown) - \"How was working with MongoDB different from working with\n",
    "PostgreSQL? What was easier, and what was harder?\"\n",
    "\n",
    "There is no other required tasks to turn in, but it is suggested to then revisit\n",
    "the first two modules, rework/complete things as needed, and just check out with\n",
    "fresh eyes the SQL approach. Compare and contrast, and come with questions\n",
    "tomorrow - the main topic will be database differences and tradeoffs!"
   ]
  },
  {
   "cell_type": "code",
   "execution_count": null,
   "metadata": {},
   "outputs": [],
   "source": []
  },
  {
   "cell_type": "markdown",
   "metadata": {},
   "source": [
    "## Resources and Stretch Goals\n",
    "\n",
    "Put Titanic data in Big Data! That is, try to load `titanic.csv` from yesterday\n",
    "into your MongoDB cluster.\n",
    "\n",
    "Push MongoDB - it is flexible and can support fast iteration. Design your own\n",
    "database to save some key/value pairs for an application you'd like to work on\n",
    "or data you'd like to analyze, and build it out as much as you can!"
   ]
  },
  {
   "cell_type": "code",
   "execution_count": null,
   "metadata": {},
   "outputs": [],
   "source": []
  }
 ],
 "metadata": {
  "kernelspec": {
   "display_name": "Python 3",
   "language": "python",
   "name": "python3"
  },
  "language_info": {
   "codemirror_mode": {
    "name": "ipython",
    "version": 3
   },
   "file_extension": ".py",
   "mimetype": "text/x-python",
   "name": "python",
   "nbconvert_exporter": "python",
   "pygments_lexer": "ipython3",
   "version": "3.7.5"
  }
 },
 "nbformat": 4,
 "nbformat_minor": 4
}
