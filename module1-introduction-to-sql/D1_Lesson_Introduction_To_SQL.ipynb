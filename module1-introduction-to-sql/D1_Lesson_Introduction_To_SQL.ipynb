{
  "nbformat": 4,
  "nbformat_minor": 0,
  "metadata": {
    "colab": {
      "name": "DS9_SQLITE3",
      "provenance": [],
      "collapsed_sections": []
    },
    "kernelspec": {
      "name": "python3",
      "display_name": "Python 3"
    }
  },
  "cells": [
    {
      "cell_type": "code",
      "metadata": {
        "id": "vWr7-7AvXRQl",
        "colab_type": "code",
        "colab": {}
      },
      "source": [
        "import sqlite3"
      ],
      "execution_count": 0,
      "outputs": []
    },
    {
      "cell_type": "code",
      "metadata": {
        "id": "DR4YdnwI-i-I",
        "colab_type": "code",
        "colab": {}
      },
      "source": [
        "conn = sqlite3.connect('toy_data.db')"
      ],
      "execution_count": 0,
      "outputs": []
    },
    {
      "cell_type": "code",
      "metadata": {
        "id": "hyZMxk1s-yGA",
        "colab_type": "code",
        "outputId": "4235ed60-6534-46f5-d2a6-bd4dc8305be3",
        "colab": {
          "base_uri": "https://localhost:8080/",
          "height": 34
        }
      },
      "source": [
        "conn"
      ],
      "execution_count": 0,
      "outputs": [
        {
          "output_type": "execute_result",
          "data": {
            "text/plain": [
              "<sqlite3.Connection at 0x7fe7b335f730>"
            ]
          },
          "metadata": {
            "tags": []
          },
          "execution_count": 3
        }
      ]
    },
    {
      "cell_type": "code",
      "metadata": {
        "id": "WSm2c0Py-1AM",
        "colab_type": "code",
        "outputId": "eb4f8153-d4cf-4ea7-99ac-872f515ea71a",
        "colab": {
          "base_uri": "https://localhost:8080/",
          "height": 34
        }
      },
      "source": [
        "import os \n",
        "os.listdir()"
      ],
      "execution_count": 0,
      "outputs": [
        {
          "output_type": "execute_result",
          "data": {
            "text/plain": [
              "['.config', 'toy_data.db', 'sample_data']"
            ]
          },
          "metadata": {
            "tags": []
          },
          "execution_count": 4
        }
      ]
    },
    {
      "cell_type": "code",
      "metadata": {
        "id": "HActwyga-6gk",
        "colab_type": "code",
        "colab": {}
      },
      "source": [
        "query = 'CREATE TABLE toy (name varchar(30), size int);'"
      ],
      "execution_count": 0,
      "outputs": []
    },
    {
      "cell_type": "code",
      "metadata": {
        "id": "ilwPnyS4_HI2",
        "colab_type": "code",
        "colab": {}
      },
      "source": [
        "curs = conn.cursor()\n",
        "dir(curs)"
      ],
      "execution_count": 0,
      "outputs": []
    },
    {
      "cell_type": "code",
      "metadata": {
        "id": "YMtnPxq__WYb",
        "colab_type": "code",
        "outputId": "c2382f5f-acee-46a9-8256-54583302875d",
        "colab": {
          "base_uri": "https://localhost:8080/",
          "height": 34
        }
      },
      "source": [
        "curs.execute(query)"
      ],
      "execution_count": 0,
      "outputs": [
        {
          "output_type": "execute_result",
          "data": {
            "text/plain": [
              "<sqlite3.Cursor at 0x7fe790dc6490>"
            ]
          },
          "metadata": {
            "tags": []
          },
          "execution_count": 7
        }
      ]
    },
    {
      "cell_type": "code",
      "metadata": {
        "id": "KK2PpSZ6_bz2",
        "colab_type": "code",
        "colab": {}
      },
      "source": [
        "curs.close()\n",
        "conn.commit()"
      ],
      "execution_count": 0,
      "outputs": []
    },
    {
      "cell_type": "code",
      "metadata": {
        "id": "5sejhXCv_hMo",
        "colab_type": "code",
        "colab": {}
      },
      "source": [
        "curs2 = conn.cursor()"
      ],
      "execution_count": 0,
      "outputs": []
    },
    {
      "cell_type": "code",
      "metadata": {
        "id": "FhRp2IZ-_k0W",
        "colab_type": "code",
        "outputId": "b4c03a59-614e-4191-a6c7-11a2484d2439",
        "colab": {
          "base_uri": "https://localhost:8080/",
          "height": 34
        }
      },
      "source": [
        "curs2.execute('SELECT * FROM toy;').fetchall()"
      ],
      "execution_count": 0,
      "outputs": [
        {
          "output_type": "execute_result",
          "data": {
            "text/plain": [
              "[]"
            ]
          },
          "metadata": {
            "tags": []
          },
          "execution_count": 10
        }
      ]
    },
    {
      "cell_type": "code",
      "metadata": {
        "id": "DvuwQlIh_vch",
        "colab_type": "code",
        "colab": {}
      },
      "source": [
        "insert_query = 'INSERT INTO toy (name, size) VALUES (\"awesome\", 27);'"
      ],
      "execution_count": 0,
      "outputs": []
    },
    {
      "cell_type": "code",
      "metadata": {
        "id": "s1LS2Ljh_4Qx",
        "colab_type": "code",
        "colab": {}
      },
      "source": [
        "curs2.execute(insert_query)\n",
        "curs2.close()\n",
        "conn.commit()"
      ],
      "execution_count": 0,
      "outputs": []
    },
    {
      "cell_type": "code",
      "metadata": {
        "id": "cZo5QwfrAAam",
        "colab_type": "code",
        "outputId": "5b7da409-8e9e-4524-9dbf-34a04384faab",
        "colab": {
          "base_uri": "https://localhost:8080/",
          "height": 34
        }
      },
      "source": [
        "curs3 = conn.cursor() \n",
        "curs3.execute('SELECT * from toy;').fetchall()"
      ],
      "execution_count": 0,
      "outputs": [
        {
          "output_type": "execute_result",
          "data": {
            "text/plain": [
              "[('awesome', 27)]"
            ]
          },
          "metadata": {
            "tags": []
          },
          "execution_count": 13
        }
      ]
    },
    {
      "cell_type": "code",
      "metadata": {
        "id": "3EfsJkcUALqF",
        "colab_type": "code",
        "colab": {}
      },
      "source": [
        "insert_query_again = 'INSERT INTO toy (name, size) VALUES (\"second row\", 30);'"
      ],
      "execution_count": 0,
      "outputs": []
    },
    {
      "cell_type": "code",
      "metadata": {
        "id": "4Q7bsDd4Ao_m",
        "colab_type": "code",
        "outputId": "adb74155-79e6-40f8-a17c-902ed93c11c9",
        "colab": {
          "base_uri": "https://localhost:8080/",
          "height": 34
        }
      },
      "source": [
        "curs3.execute(insert_query_again)"
      ],
      "execution_count": 0,
      "outputs": [
        {
          "output_type": "execute_result",
          "data": {
            "text/plain": [
              "<sqlite3.Cursor at 0x7fe790dc6650>"
            ]
          },
          "metadata": {
            "tags": []
          },
          "execution_count": 15
        }
      ]
    },
    {
      "cell_type": "code",
      "metadata": {
        "id": "bcTHTQTnAtV1",
        "colab_type": "code",
        "outputId": "fca012c4-4df8-422d-b49e-09ce5e3108ba",
        "colab": {
          "base_uri": "https://localhost:8080/",
          "height": 34
        }
      },
      "source": [
        "curs3.execute('SELECT * from toy;').fetchall()"
      ],
      "execution_count": 0,
      "outputs": [
        {
          "output_type": "execute_result",
          "data": {
            "text/plain": [
              "[('awesome', 27), ('second row', 30)]"
            ]
          },
          "metadata": {
            "tags": []
          },
          "execution_count": 16
        }
      ]
    },
    {
      "cell_type": "code",
      "metadata": {
        "id": "bC0rp1o8Ax4-",
        "colab_type": "code",
        "colab": {}
      },
      "source": [
        "curs3.close() \n",
        "conn.commit()"
      ],
      "execution_count": 0,
      "outputs": []
    }
  ]
}